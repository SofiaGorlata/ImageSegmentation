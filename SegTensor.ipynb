{
 "cells": [
  {
   "cell_type": "code",
   "execution_count": null,
   "metadata": {},
   "outputs": [],
   "source": [
    "from numpy.random import seed\n",
    "seed(123)\n",
    "from tensorflow import set_random_seed\n",
    "set_random_seed(123)\n",
    "\n",
    "\n",
    "import numpy as np\n",
    "import pandas as pd\n",
    "\n",
    "import imageio\n",
    "\n",
    "import matplotlib.pyplot as plt\n",
    "%matplotlib inline\n",
    "\n",
    "\n",
    "import os\n",
    "print(os.listdir(\"../input\"))"
   ]
  },
  {
   "cell_type": "code",
   "execution_count": null,
   "metadata": {},
   "outputs": [],
   "source": [
    "image_path = '../input/dataa/dataA/CameraRGB/'\n",
    "mask_path = '../input/dataa/dataA/CameraSeg/'\n",
    "image_list = os.listdir(image_path)\n",
    "mask_list = os.listdir(mask_path)\n",
    "image_list = [image_path+i for i in image_list]\n",
    "mask_list = [mask_path+i for i in mask_list]"
   ]
  },
  {
   "cell_type": "code",
   "execution_count": null,
   "metadata": {},
   "outputs": [],
   "source": [
    "N = 1\n",
    "img = imageio.imread(image_list[N])\n",
    "mask = imageio.imread(mask_list[N])\n",
    "mask = np.array([max(mask[i, j]) for i in range(mask.shape[0]) for j in range(mask.shape[1])]).reshape(img.shape[0], img.shape[1])\n",
    "\n",
    "fig, arr = plt.subplots(1, 2, figsize=(14, 10))\n",
    "arr[0].imshow(img)\n",
    "arr[0].set_title('Image')\n",
    "arr[1].imshow(mask, cmap='Paired')\n",
    "arr[1].set_title('Segmentation')"
   ]
  },
  {
   "cell_type": "code",
   "execution_count": null,
   "metadata": {},
   "outputs": [],
   "source": [
    "road = np.zeros((600, 800))\n",
    "road[np.where(mask==10)[0], np.where(mask==10)[1]]=1\n",
    "plt.imshow(road)"
   ]
  },
  {
   "cell_type": "code",
   "execution_count": 1,
   "metadata": {},
   "outputs": [],
   "source": [
    "from tqdm import tqdm\n",
    "\n",
    "height, width = 600, 800\n",
    "images = np.zeros((len(image_list), height, width, 3), dtype=np.int16)\n",
    "masks = np.zeros((len(image_list), height, width, 1), dtype=np.int8)\n",
    "\n",
    "for n in tqdm(range(len(image_list))):\n",
    "    img = imageio.imread(image_list[n])\n",
    "    \n",
    "    mask = imageio.imread(mask_list[n])\n",
    "    mask_road = np.zeros((600, 800, 1), dtype=np.int8)\n",
    "    mask_road[np.where(mask==10)[0], np.where(mask==10)[1]]=1\n",
    "    \n",
    "    images[n] = img\n",
    "    masks[n] = mask_road"
   ]
  },
  {
   "cell_type": "code",
   "execution_count": null,
   "metadata": {},
   "outputs": [],
   "source": [
    "plt.imshow(images[4].reshape(600, 800, 3))"
   ]
  },
  {
   "cell_type": "code",
   "execution_count": null,
   "metadata": {},
   "outputs": [],
   "source": [
    "np.random.seed(123)\n",
    "shuffle_ids = np.array([i for i in range(len(masks))])\n",
    "np.random.shuffle(shuffle_ids)\n",
    "train_ids = shuffle_ids[:int(len(masks)*0.8)]\n",
    "val_ids = shuffle_ids[int(len(masks)*0.8):int(len(masks)*0.8+100)]\n",
    "test_ids = shuffle_ids[int(len(masks)*0.8+100):]"
   ]
  },
  {
   "cell_type": "code",
   "execution_count": null,
   "metadata": {},
   "outputs": [],
   "source": [
    "train_images, train_masks = images[train_ids], masks[train_ids]\n",
    "val_images, val_masks = images[val_ids], masks[val_ids]\n",
    "test_images, test_masks = images[test_ids], masks[test_ids]"
   ]
  },
  {
   "cell_type": "code",
   "execution_count": null,
   "metadata": {},
   "outputs": [],
   "source": [
    "train_images.shape, val_images.shape, test_images.shape"
   ]
  },
  {
   "cell_type": "code",
   "execution_count": null,
   "metadata": {},
   "outputs": [],
   "source": [
    "from keras.models import Model, load_model\n",
    "from keras.layers import Input\n",
    "from keras.layers.core import Lambda, RepeatVector, Reshape\n",
    "from keras.layers.convolutional import Conv2D, Conv2DTranspose\n",
    "from keras.layers.pooling import MaxPooling2D\n",
    "from keras.layers.merge import concatenate\n",
    "from keras.callbacks import EarlyStopping, ModelCheckpoint, ReduceLROnPlateau\n",
    "from keras import backend as K"
   ]
  },
  {
   "cell_type": "code",
   "execution_count": null,
   "metadata": {},
   "outputs": [],
   "source": [
    "# Build U-Net model\n",
    "input_img = Input((height, width, 3), name='img')\n",
    "\n",
    "c1 = Conv2D(8, (3, 3), activation='relu', padding='same') (input_img)\n",
    "c1 = Conv2D(8, (3, 3), activation='relu', padding='same') (c1)\n",
    "p1 = MaxPooling2D((2, 2)) (c1)\n",
    "\n",
    "c2 = Conv2D(16, (3, 3), activation='relu', padding='same') (p1)\n",
    "c2 = Conv2D(16, (3, 3), activation='relu', padding='same') (c2)\n",
    "p2 = MaxPooling2D((2, 2)) (c2)\n",
    "\n",
    "c3 = Conv2D(32, (3, 3), activation='relu', padding='same') (p2)\n",
    "c3 = Conv2D(32, (3, 3), activation='relu', padding='same') (c3)\n",
    "p3 = MaxPooling2D((2, 2)) (c3)\n",
    "\n",
    "c4 = Conv2D(64, (3, 3), activation='relu', padding='same') (p3)\n",
    "c4 = Conv2D(64, (3, 3), activation='relu', padding='same') (c4)\n",
    "\n",
    "u5 = Conv2DTranspose(64, (2, 2), strides=(2, 2), padding='same') (c4)\n",
    "u5 = concatenate([u5, c3])\n",
    "c6 = Conv2D(32, (3, 3), activation='relu', padding='same') (u5)\n",
    "c6 = Conv2D(32, (3, 3), activation='relu', padding='same') (c6)\n",
    "\n",
    "u7 = Conv2DTranspose(32, (2, 2), strides=(2, 2), padding='same') (c6)\n",
    "u7 = concatenate([u7, c2])\n",
    "c7 = Conv2D(16, (3, 3), activation='relu', padding='same') (u7)\n",
    "c7 = Conv2D(16, (3, 3), activation='relu', padding='same') (c7)\n",
    "\n",
    "u8 = Conv2DTranspose(16, (2, 2), strides=(2, 2), padding='same') (c7)\n",
    "u8 = concatenate([u8, c1])\n",
    "c8 = Conv2D(8, (3, 3), activation='relu', padding='same') (u8)\n",
    "c8 = Conv2D(8, (3, 3), activation='relu', padding='same') (c8)\n",
    "\n",
    "outputs = Conv2D(1, (1, 1), activation='sigmoid') (c8)\n",
    "\n",
    "model = Model(inputs=[input_img], outputs=[outputs])\n",
    "model.compile(optimizer='adam', loss='binary_crossentropy') #, metrics=[mean_iou]) # The mean_iou metrics seens to leak train and test values...\n",
    "model.summary()"
   ]
  },
  {
   "cell_type": "code",
   "execution_count": null,
   "metadata": {},
   "outputs": [],
   "source": [
    "callbacks = [\n",
    "    EarlyStopping(patience=12, verbose=1),\n",
    "    ReduceLROnPlateau(patience=3, verbose=1),\n",
    "    ModelCheckpoint('model-sdc-seg-v2.h5', verbose=1, save_best_only=True)\n",
    "]\n",
    "\n",
    "results = model.fit(train_images, train_masks, batch_size=16, epochs=100, callbacks=callbacks,\n",
    "                    validation_data=(val_images, val_masks))"
   ]
  },
  {
   "cell_type": "code",
   "execution_count": null,
   "metadata": {},
   "outputs": [],
   "source": [
    "model.save('final-road-seg-model-v2.h5')"
   ]
  },
  {
   "cell_type": "code",
   "execution_count": null,
   "metadata": {},
   "outputs": [],
   "source": [
    "NUMBER = 0\n",
    "\n",
    "my_preds = model.predict(np.expand_dims(test_images[NUMBER], 0))\n",
    "my_preds = my_preds.flatten()\n",
    "my_preds = np.array([1 if i >= 0.5 else 0 for i in my_preds])\n",
    "fig, ax = plt.subplots(nrows=1, ncols=2)\n",
    "ax[0].imshow(my_preds.reshape(600, 800))\n",
    "ax[0].set_title('Prediction')\n",
    "ax[1].imshow(test_masks[NUMBER].reshape(600, 800))\n",
    "ax[1].set_title('Ground truth')"
   ]
  },
  {
   "cell_type": "code",
   "execution_count": null,
   "metadata": {},
   "outputs": [],
   "source": [
    "NUMBER += 0\n",
    "\n",
    "my_preds = model.predict(np.expand_dims(test_images[NUMBER], 0))\n",
    "my_preds = my_preds.flatten()\n",
    "my_preds = np.array([1 if i >= 0.5 else 0 for i in my_preds])\n",
    "fig, ax = plt.subplots(nrows=1, ncols=2)\n",
    "ax[0].imshow(my_preds.reshape(600, 800))\n",
    "ax[0].set_title('Prediction')\n",
    "ax[1].imshow(test_masks[NUMBER].reshape(600, 800))\n",
    "ax[1].set_title('Ground truth')"
   ]
  }
 ],
 "metadata": {
  "kernelspec": {
   "display_name": "Python 3",
   "language": "python",
   "name": "python3"
  },
  "language_info": {
   "codemirror_mode": {
    "name": "ipython",
    "version": 3
   },
   "file_extension": ".py",
   "mimetype": "text/x-python",
   "name": "python",
   "nbconvert_exporter": "python",
   "pygments_lexer": "ipython3",
   "version": "3.7.4"
  }
 },
 "nbformat": 4,
 "nbformat_minor": 2
}
